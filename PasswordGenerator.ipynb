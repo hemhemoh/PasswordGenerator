{
  "nbformat": 4,
  "nbformat_minor": 0,
  "metadata": {
    "colab": {
      "name": "PasswordGenerator.ipynb",
      "provenance": [],
      "authorship_tag": "ABX9TyNTz4E77BncYi8LJKyywVwm"
    },
    "kernelspec": {
      "name": "python3",
      "display_name": "Python 3"
    }
  },
  "cells": [
    {
      "cell_type": "markdown",
      "metadata": {
        "id": "glvg41GSwiSV"
      },
      "source": [
        "\r\n",
        "Password Generator: Write a program, which generates a random password for the user. Ask t password should be a minimum of 6 characters long.\r\n",
        "he user how long they want their password to be, and how many letters and numbers they want in their password.\r\n"
      ]
    },
    {
      "cell_type": "code",
      "metadata": {
        "colab": {
          "base_uri": "https://localhost:8080/"
        },
        "id": "0-AhZL71vgxS",
        "outputId": "7099e835-9969-4596-f704-7897442f586b"
      },
      "source": [
        "import string as str\r\n",
        "import random\r\n",
        "def password_generator():\r\n",
        "    while True:\r\n",
        "        try:\r\n",
        "            #ask the user for how long they want their password to be\r\n",
        "            user = int(input(\"Welcome to your password generator!\\nHow long will you like your password to be\\n(requirements:minimum of 6 characters)\"))\r\n",
        "            if user >= 6:\r\n",
        "            #for the number inputted is greater than 6, our program is going to continue running, if not it'd ask the user to input a number greater or equal to 6\r\n",
        "                user_letters = int(input(\"How many letters do you want n your password:\")) #how many letters does the user want in their password\r\n",
        "                user_numbers = int(input(\"How many numbers do you want n your password:\"))#how many numbers does the user want in their password\r\n",
        "                \r\n",
        "                letters = random.choices(str.ascii_letters, k=user_letters) #pick random letters between A-Z\r\n",
        "                numbers = random.choices(str.digits, k=user_numbers) #pick random digits between 0-9\r\n",
        "                sym_num = user - len(letters+numbers) #total number of symbols that'd be present in the password will be determined by the total number of characters the user wants in their password minus the total number of letters and numbers\r\n",
        "                symbols = random.choices(str.punctuation, k=sym_num) #pick random symbols(punctuation) that the password will have\r\n",
        "                \r\n",
        "                password_characters = letters + numbers +symbols \r\n",
        "                random.shuffle(password_characters)\r\n",
        "                print(\"your password is: \" + \"\".join(password_characters))\r\n",
        "                break\r\n",
        "            else:\r\n",
        "                print(\"The number chosen is not up to 6!!\")\r\n",
        "        except ValueError:\r\n",
        "            print(\"This is not an integer, pick an integer and try again\")\r\n",
        "            \r\n",
        "password_generator()\r\n",
        "    \r\n",
        "            "
      ],
      "execution_count": 1,
      "outputs": [
        {
          "output_type": "stream",
          "text": [
            "Welcome to your password generator!\n",
            "How long will you like your password to be\n",
            "(requirements:minimum of 6 characters)7\n",
            "How many letters do you want n your password:3\n",
            "How many numbers do you want n your password:3\n",
            "your password is: @Z68Q8g\n"
          ],
          "name": "stdout"
        }
      ]
    }
  ]
}